{
  "nbformat": 4,
  "nbformat_minor": 0,
  "metadata": {
    "colab": {
      "name": "son.ipynb adlı not defterinin kopyası",
      "provenance": [],
      "collapsed_sections": [],
      "include_colab_link": true
    },
    "kernelspec": {
      "name": "python3",
      "display_name": "Python 3"
    },
    "accelerator": "GPU"
  },
  "cells": [
    {
      "cell_type": "markdown",
      "metadata": {
        "id": "view-in-github",
        "colab_type": "text"
      },
      "source": [
        "<a href=\"https://colab.research.google.com/github/hsefadere/hu-bby261-2020/blob/main/proje_03.ipynb\" target=\"_parent\"><img src=\"https://colab.research.google.com/assets/colab-badge.svg\" alt=\"Open In Colab\"/></a>"
      ]
    },
    {
      "cell_type": "code",
      "metadata": {
        "id": "i-vgL-3ms449",
        "outputId": "07802d58-8ca1-47d9-81b6-3a984f9d7a4c",
        "colab": {
          "base_uri": "https://localhost:8080/",
          "height": 1000
        }
      },
      "source": [
        "import matplotlib as plt\n",
        "from google.colab import drive\n",
        "drive.mount(\"/gdrive\", force_remount=True)\n",
        "import cv2 \n",
        "import numpy as nm \n",
        "\n",
        "\n",
        "#gir = input(\"sayı giriniz:\")\n",
        "img=cv2.imread(\"/gdrive/My Drive/pyÖdev/5.png\" ,0) \n",
        "\n",
        "img=cv2.imread(\"/gdrive/My Drive/pyödev/5.png\") \n",
        "gray_img=cv2.cvtColor(img,cv2.COLOR_BGR2GRAY)\n",
        "\n",
        "from matplotlib import image\n",
        "from matplotlib import pyplot\n",
        "\n",
        "# load image as pixel array\n",
        "# summarize shape of the pixel array\n",
        "print(gray_img.dtype)\n",
        "print(gray_img.shape)\n",
        "# display the array of pixels as an image\n",
        "pyplot.imshow(gray_img, cmap=plt.cm.binary_r)\n",
        "pyplot.show()\n",
        "print(gray_img)\n",
        "\n"
      ],
      "execution_count": null,
      "outputs": [
        {
          "output_type": "stream",
          "text": [
            "Mounted at /gdrive\n",
            "uint8\n",
            "(25, 25)\n"
          ],
          "name": "stdout"
        },
        {
          "output_type": "display_data",
          "data": {
            "image/png": "[encoded data removed]",
            "text/plain": [
              "<Figure size 432x288 with 1 Axes>"
            ]
          },
          "metadata": {
            "tags": [],
            "needs_background": "light"
          }
        },
        {
          "output_type": "stream",
          "text": [
            "[[255 255 255 255 255 255 255 255 255 255 255 255 255 255 255 255 255 255\n",
            "  255 255 255 255 255 255 255]\n",
            " [255 255 255 255 255 255 255 255 255 255 255 255 255 255 255 255 255 255\n",
            "  255 255 255 255 255 255 255]\n",
            " [255 255 255 255 255 255 183  32   0   0   0   0   0   0  32 159 255 255\n",
            "  255 255 255 255 255 255 255]\n",
            " [255 255 255 255 255 255  24   0   0   0   0   0   0   0   0   8 255 255\n",
            "  255 255 255 255 255 255 255]\n",
            " [255 255 255 255 255 255   0   0   0   0   0   0   0   0   0 104 255 255\n",
            "  255 255 255 255 255 255 255]\n",
            " [255 255 255 255 255 255   0   0   0 159 255 255 255 255 255 255 255 255\n",
            "  255 255 255 255 255 255 255]\n",
            " [255 255 255 255 255 255   8   0   0   8 255 255 255 255 255 255 255 255\n",
            "  255 255 255 255 255 255 255]\n",
            " [255 255 255 255 255 255 135   0   0   0 255 255 255 255 255 255 255 255\n",
            "  255 255 255 255 255 255 255]\n",
            " [255 255 255 255 255 255 255   0   0   0 255 183  32   0  32 159 255 255\n",
            "  255 255 255 255 255 255 255]\n",
            " [255 255 255 255 255 255 255   0   0   0   0   0   0   0   0   8 159 255\n",
            "  255 255 255 255 255 255 255]\n",
            " [255 255 255 255 255 255 255   0   0   0   0   0   0   0   0   0   8 255\n",
            "  255 255 255 255 255 255 255]\n",
            " [255 255 255 255 255 255 255   8   0   0   0   0   0  56   0   0   0 159\n",
            "  255 255 255 255 255 255 255]\n",
            " [255 255 255 255 255 255 255 135   0   0 104 255 255 255   8   0   0   8\n",
            "  255 255 255 255 255 255 255]\n",
            " [255 255 255 255 255 255 255 255 255 255 255 255 255 255 135   0   0   0\n",
            "  255 255 255 255 255 255 255]\n",
            " [255 255 255 255 255 255 255 255 255 255 255 255 255 255 255   0   0   0\n",
            "  255 255 255 255 255 255 255]\n",
            " [255 255 255 255 255 255 255 255 255 255 255 255 255 255 255   0   0   0\n",
            "  255 255 255 255 255 255 255]\n",
            " [255 255 255 255 255 255 255 255 255 255 255 255 255 255 255   0   0   0\n",
            "  255 255 255 255 255 255 255]\n",
            " [255 255 255 255 255 183  64 151 255 255 255 255 255 255 255   0   0   0\n",
            "  255 255 255 255 255 255 255]\n",
            " [255 255 255 255 255  32   0   0 135 255 255 255 255 255 183   0   0   0\n",
            "  255 255 255 255 255 255 255]\n",
            " [255 255 255 255 255 112   0   0   8 255 255 255 183  32   0   0   0   0\n",
            "  255 255 255 255 255 255 255]\n",
            " [255 255 255 255 255 247   8   0   0   0   0   0   0   0   0   0   0 104\n",
            "  255 255 255 255 255 255 255]\n",
            " [255 255 255 255 255 255 112   0   0   0   0   0   0   0   0   0 104 255\n",
            "  255 255 255 255 255 255 255]\n",
            " [255 255 255 255 255 255 247  96   0   0   0   0   0   0 104 255 255 255\n",
            "  255 255 255 255 255 255 255]\n",
            " [255 255 255 255 255 255 255 255 255 255 255 255 255 255 255 255 255 255\n",
            "  255 255 255 255 255 255 255]\n",
            " [255 255 255 255 255 255 255 255 255 255 255 255 255 255 255 255 255 255\n",
            "  255 255 255 255 255 255 255]]\n"
          ],
          "name": "stdout"
        }
      ]
    },
    {
      "cell_type": "code",
      "metadata": {
        "id": "sDB43Zbas7Tp",
        "outputId": "8fbd7695-d7c3-45a6-9ad8-34f6e0ce5b53",
        "colab": {
          "base_uri": "https://localhost:8080/",
          "height": 1000
        }
      },
      "source": [
        "\n",
        "import tensorflow as tf\n",
        "\n",
        "(x_train, y_train),(x_test, y_test) = tf.keras.datasets.mnist.load_data()\n",
        "\n",
        "import matplotlib.pyplot as plt\n",
        "image_index = 1 # You may select anything up to 60,000\n",
        "print(y_train[image_index]) # The label is 9\n",
        "plt.imshow(x_train[image_index], cmap='Greys')\n",
        "\n",
        "print(x_train[image_index])\n",
        "\n",
        "x_train.shape\n",
        "\n",
        "# Reshaping the array to 4-dims so that it can work with the Keras API\n",
        "x_train = x_train.reshape(x_train.shape[0], 28, 28, 1)\n",
        "x_test = x_test.reshape(x_test.shape[0], 28, 28, 1)\n",
        "input_shape = (28, 28, 1)\n",
        "# Making sure that the values are float so that we can get decimal points after division\n",
        "x_train = x_train.astype('float32')\n",
        "x_test = x_test.astype('float32')\n",
        "# Normalizing the RGB codes by dividing it to the max RGB value.\n",
        "x_train /= 255\n",
        "x_test /= 255\n",
        "print('x_train shape:', x_train.shape)\n",
        "print('Number of images in x_train', x_train.shape[0])\n",
        "print('Number of images in x_test', x_test.shape[0])\n",
        "\n",
        "# Importing the required Keras modules containing model and layers\n",
        "from tensorflow.keras.models import Sequential\n",
        "from tensorflow.keras.layers import Dense, Conv2D, Dropout, Flatten, MaxPooling2D\n",
        "# Creating a Sequential Model and adding the layers\n",
        "model = Sequential()\n",
        "model.add(Conv2D(28, kernel_size=(3,3), input_shape=input_shape))\n",
        "model.add(MaxPooling2D(pool_size=(2, 2)))\n",
        "model.add(Flatten()) # Flattening the 2D arrays for fully connected layers\n",
        "model.add(Dense(128, activation=tf.nn.relu))\n",
        "model.add(Dropout(0.2))\n",
        "model.add(Dense(10,activation=tf.nn.softmax))\n",
        "\n",
        "model.compile(optimizer='adam', \n",
        "              loss='sparse_categorical_crossentropy', \n",
        "              metrics=['accuracy'])\n",
        "model.fit(x=x_train,y=y_train, epochs=5)\n",
        "\n",
        "model.evaluate(x_test, y_test)\n",
        "model.evaluate(x_test, y_test)\n",
        "\n",
        "#image_index=9999 # Image.open(\"/gdrive/My Drive/odev/{}.png\" .format(gir),\"r\")\n",
        "plt.imshow(gray_img.reshape(28, 28),cmap='Greys')\n",
        "#pred = model.predict(gray_img[image_index].reshape(1, 28, 28, 1))\n",
        "pred = model.predict(gray_img.reshape(1, 28, 28, 1))\n",
        "print(pred.argmax())\n"
      ],
      "execution_count": null,
      "outputs": [
        {
          "output_type": "stream",
          "text": [
            "0\n",
            "[[  0   0   0   0   0   0   0   0   0   0   0   0   0   0   0   0   0   0\n",
            "    0   0   0   0   0   0   0   0   0   0]\n",
            " [  0   0   0   0   0   0   0   0   0   0   0   0   0   0   0   0   0   0\n",
            "    0   0   0   0   0   0   0   0   0   0]\n",
            " [  0   0   0   0   0   0   0   0   0   0   0   0   0   0   0   0   0   0\n",
            "    0   0   0   0   0   0   0   0   0   0]\n",
            " [  0   0   0   0   0   0   0   0   0   0   0   0   0   0   0   0   0   0\n",
            "    0   0   0   0   0   0   0   0   0   0]\n",
            " [  0   0   0   0   0   0   0   0   0   0   0   0   0   0   0  51 159 253\n",
            "  159  50   0   0   0   0   0   0   0   0]\n",
            " [  0   0   0   0   0   0   0   0   0   0   0   0   0   0  48 238 252 252\n",
            "  252 237   0   0   0   0   0   0   0   0]\n",
            " [  0   0   0   0   0   0   0   0   0   0   0   0   0  54 227 253 252 239\n",
            "  233 252  57   6   0   0   0   0   0   0]\n",
            " [  0   0   0   0   0   0   0   0   0   0   0  10  60 224 252 253 252 202\n",
            "   84 252 253 122   0   0   0   0   0   0]\n",
            " [  0   0   0   0   0   0   0   0   0   0   0 163 252 252 252 253 252 252\n",
            "   96 189 253 167   0   0   0   0   0   0]\n",
            " [  0   0   0   0   0   0   0   0   0   0  51 238 253 253 190 114 253 228\n",
            "   47  79 255 168   0   0   0   0   0   0]\n",
            " [  0   0   0   0   0   0   0   0   0  48 238 252 252 179  12  75 121  21\n",
            "    0   0 253 243  50   0   0   0   0   0]\n",
            " [  0   0   0   0   0   0   0   0  38 165 253 233 208  84   0   0   0   0\n",
            "    0   0 253 252 165   0   0   0   0   0]\n",
            " [  0   0   0   0   0   0   0   7 178 252 240  71  19  28   0   0   0   0\n",
            "    0   0 253 252 195   0   0   0   0   0]\n",
            " [  0   0   0   0   0   0   0  57 252 252  63   0   0   0   0   0   0   0\n",
            "    0   0 253 252 195   0   0   0   0   0]\n",
            " [  0   0   0   0   0   0   0 198 253 190   0   0   0   0   0   0   0   0\n",
            "    0   0 255 253 196   0   0   0   0   0]\n",
            " [  0   0   0   0   0   0  76 246 252 112   0   0   0   0   0   0   0   0\n",
            "    0   0 253 252 148   0   0   0   0   0]\n",
            " [  0   0   0   0   0   0  85 252 230  25   0   0   0   0   0   0   0   0\n",
            "    7 135 253 186  12   0   0   0   0   0]\n",
            " [  0   0   0   0   0   0  85 252 223   0   0   0   0   0   0   0   0   7\n",
            "  131 252 225  71   0   0   0   0   0   0]\n",
            " [  0   0   0   0   0   0  85 252 145   0   0   0   0   0   0   0  48 165\n",
            "  252 173   0   0   0   0   0   0   0   0]\n",
            " [  0   0   0   0   0   0  86 253 225   0   0   0   0   0   0 114 238 253\n",
            "  162   0   0   0   0   0   0   0   0   0]\n",
            " [  0   0   0   0   0   0  85 252 249 146  48  29  85 178 225 253 223 167\n",
            "   56   0   0   0   0   0   0   0   0   0]\n",
            " [  0   0   0   0   0   0  85 252 252 252 229 215 252 252 252 196 130   0\n",
            "    0   0   0   0   0   0   0   0   0   0]\n",
            " [  0   0   0   0   0   0  28 199 252 252 253 252 252 233 145   0   0   0\n",
            "    0   0   0   0   0   0   0   0   0   0]\n",
            " [  0   0   0   0   0   0   0  25 128 252 253 252 141  37   0   0   0   0\n",
            "    0   0   0   0   0   0   0   0   0   0]\n",
            " [  0   0   0   0   0   0   0   0   0   0   0   0   0   0   0   0   0   0\n",
            "    0   0   0   0   0   0   0   0   0   0]\n",
            " [  0   0   0   0   0   0   0   0   0   0   0   0   0   0   0   0   0   0\n",
            "    0   0   0   0   0   0   0   0   0   0]\n",
            " [  0   0   0   0   0   0   0   0   0   0   0   0   0   0   0   0   0   0\n",
            "    0   0   0   0   0   0   0   0   0   0]\n",
            " [  0   0   0   0   0   0   0   0   0   0   0   0   0   0   0   0   0   0\n",
            "    0   0   0   0   0   0   0   0   0   0]]\n",
            "x_train shape: (60000, 28, 28, 1)\n",
            "Number of images in x_train 60000\n",
            "Number of images in x_test 10000\n",
            "Epoch 1/5\n",
            "1875/1875 [==============================] - 4s 2ms/step - loss: 0.2089 - accuracy: 0.9383\n",
            "Epoch 2/5\n",
            "1875/1875 [==============================] - 4s 2ms/step - loss: 0.0875 - accuracy: 0.9735\n",
            "Epoch 3/5\n",
            "1875/1875 [==============================] - 4s 2ms/step - loss: 0.0638 - accuracy: 0.9799\n",
            "Epoch 4/5\n",
            "1875/1875 [==============================] - 4s 2ms/step - loss: 0.0483 - accuracy: 0.9846\n",
            "Epoch 5/5\n",
            "1875/1875 [==============================] - 4s 2ms/step - loss: 0.0378 - accuracy: 0.9872\n",
            "313/313 [==============================] - 1s 2ms/step - loss: 0.0603 - accuracy: 0.9819\n",
            "313/313 [==============================] - 1s 2ms/step - loss: 0.0603 - accuracy: 0.9819\n"
          ],
          "name": "stdout"
        },
        {
          "output_type": "error",
          "ename": "ValueError",
          "evalue": "ignored",
          "traceback": [
            "\u001b[0;31m---------------------------------------------------------------------------\u001b[0m",
            "\u001b[0;31mValueError\u001b[0m                                Traceback (most recent call last)",
            "\u001b[0;32m<ipython-input-11-c0f3546b63ec>\u001b[0m in \u001b[0;36m<module>\u001b[0;34m()\u001b[0m\n\u001b[1;32m     48\u001b[0m \u001b[0;34m\u001b[0m\u001b[0m\n\u001b[1;32m     49\u001b[0m \u001b[0;31m#image_index=9999 # Image.open(\"/gdrive/My Drive/odev/{}.png\" .format(gir),\"r\")\u001b[0m\u001b[0;34m\u001b[0m\u001b[0;34m\u001b[0m\u001b[0;34m\u001b[0m\u001b[0m\n\u001b[0;32m---> 50\u001b[0;31m \u001b[0mplt\u001b[0m\u001b[0;34m.\u001b[0m\u001b[0mimshow\u001b[0m\u001b[0;34m(\u001b[0m\u001b[0mgray_img\u001b[0m\u001b[0;34m.\u001b[0m\u001b[0mreshape\u001b[0m\u001b[0;34m(\u001b[0m\u001b[0;36m28\u001b[0m\u001b[0;34m,\u001b[0m \u001b[0;36m28\u001b[0m\u001b[0;34m)\u001b[0m\u001b[0;34m,\u001b[0m\u001b[0mcmap\u001b[0m\u001b[0;34m=\u001b[0m\u001b[0;34m'Greys'\u001b[0m\u001b[0;34m)\u001b[0m\u001b[0;34m\u001b[0m\u001b[0;34m\u001b[0m\u001b[0m\n\u001b[0m\u001b[1;32m     51\u001b[0m \u001b[0;31m#pred = model.predict(gray_img[image_index].reshape(1, 28, 28, 1))\u001b[0m\u001b[0;34m\u001b[0m\u001b[0;34m\u001b[0m\u001b[0;34m\u001b[0m\u001b[0m\n\u001b[1;32m     52\u001b[0m \u001b[0mpred\u001b[0m \u001b[0;34m=\u001b[0m \u001b[0mnp\u001b[0m\u001b[0;34m.\u001b[0m\u001b[0margmax\u001b[0m\u001b[0;34m(\u001b[0m\u001b[0mmodel\u001b[0m\u001b[0;34m.\u001b[0m\u001b[0mpredict\u001b[0m\u001b[0;34m(\u001b[0m\u001b[0mgray_img\u001b[0m\u001b[0;34m.\u001b[0m\u001b[0mreshape\u001b[0m\u001b[0;34m(\u001b[0m\u001b[0;36m1\u001b[0m\u001b[0;34m,\u001b[0m \u001b[0;36m28\u001b[0m\u001b[0;34m,\u001b[0m \u001b[0;36m28\u001b[0m\u001b[0;34m,\u001b[0m \u001b[0;36m1\u001b[0m\u001b[0;34m)\u001b[0m\u001b[0;34m)\u001b[0m\u001b[0;34m)\u001b[0m\u001b[0;34m\u001b[0m\u001b[0;34m\u001b[0m\u001b[0m\n",
            "\u001b[0;31mValueError\u001b[0m: cannot reshape array of size 625 into shape (28,28)"
          ]
        },
        {
          "output_type": "display_data",
          "data": {
            "image/png": "[encoded data removed]",
            "text/plain": [
              "<Figure size 432x288 with 1 Axes>"
            ]
          },
          "metadata": {
            "tags": [],
            "needs_background": "light"
          }
        }
      ]
    }
  ]
}