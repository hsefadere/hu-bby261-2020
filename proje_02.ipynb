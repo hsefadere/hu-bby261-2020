{
  "nbformat": 4,
  "nbformat_minor": 0,
  "metadata": {
    "colab": {
      "name": "Untitled2.ipynb",
      "provenance": [],
      "include_colab_link": true
    },
    "kernelspec": {
      "name": "python3",
      "display_name": "Python 3"
    }
  },
  "cells": [
    {
      "cell_type": "markdown",
      "metadata": {
        "id": "view-in-github",
        "colab_type": "text"
      },
      "source": [
        "<a href=\"https://colab.research.google.com/github/hsefadere/hu-bby261-2020/blob/main/proje_02.ipynb\" target=\"_parent\"><img src=\"https://colab.research.google.com/assets/colab-badge.svg\" alt=\"Open In Colab\"/></a>"
      ]
    },
    {
      "cell_type": "code",
      "metadata": {
        "id": "N9F-tPXcu3Mc",
        "outputId": "ba5f4e38-9be7-4c5e-bf55-27d06397ca2e",
        "colab": {
          "base_uri": "https://localhost:8080/"
        }
      },
      "source": [
        "import tensorflow as tf\n",
        "import matplotlib.pyplot as plt\n",
        "import numpy as np\n",
        "import logging\n",
        "logger = tf.get_logger()\n",
        "logger.setLevel(logging.ERROR)\n",
        "\n",
        "millist = np.array([1, 2, 8, 11, 15, 20], dtype=float)\n",
        "kmlist = np.array([1.609344, 3.86411, 4.97096,  6.83508, 9.32056, 12.42742], dtype=float)\n",
        "\n",
        "for a, b in enumerate(millist):\n",
        "\tprint(\"{} mil {} kmdir.\" .format(b, kmlist[a]))\n",
        "hesap = tf.keras.layers.Dense(units = 1,  input_shape=[1])\n",
        "\n",
        "model = tf.keras.Sequential([hesap])\n",
        "model.compile(loss=\"mean_squared_error\", optimizer = tf.keras.optimizers.Adam(0.500))\n",
        "tekrarlama= int(input(\"Tekrarlama Sayısını Giriniz:\"))\n",
        "history = model.fit(millist, kmlist, epochs = tekrarlama, verbose = False)\n",
        "print(\"İşlem Tamam\")\n",
        "\n",
        "sonuc = input(\"Hesaplamak İstediğiniz Mil Değerini Yazınız: \")\n",
        "print(\"Sonuç: \", model.predict([int(sonuc)]))\n",
        "asil = int(sonuc) * 1.609344\n",
        "print(\"Asıl Değer: \", asil)\n"
      ],
      "execution_count": null,
      "outputs": [
        {
          "output_type": "stream",
          "text": [
            "1.0 mil 1.609344 kmdir.\n",
            "2.0 mil 3.86411 kmdir.\n",
            "8.0 mil 4.97096 kmdir.\n",
            "11.0 mil 6.83508 kmdir.\n",
            "15.0 mil 9.32056 kmdir.\n",
            "20.0 mil 12.42742 kmdir.\n"
          ],
          "name": "stdout"
        }
      ]
    }
  ]
}