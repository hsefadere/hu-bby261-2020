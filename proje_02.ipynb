{
  "nbformat": 4,
  "nbformat_minor": 0,
  "metadata": {
    "colab": {
      "name": "proje_02.ipynb",
      "provenance": [],
      "authorship_tag": "ABX9TyPlWzQmJ5oqSrcoKQDNXtJC",
      "include_colab_link": true
    },
    "kernelspec": {
      "name": "python3",
      "display_name": "Python 3"
    }
  },
  "cells": [
    {
      "cell_type": "markdown",
      "metadata": {
        "id": "view-in-github",
        "colab_type": "text"
      },
      "source": [
        "<a href=\"https://colab.research.google.com/github/hsefadere/hu-bby261-2020/blob/main/proje_02.ipynb\" target=\"_parent\"><img src=\"https://colab.research.google.com/assets/colab-badge.svg\" alt=\"Open In Colab\"/></a>"
      ]
    },
    {
      "cell_type": "code",
      "metadata": {
        "colab": {
          "base_uri": "https://localhost:8080/"
        },
        "id": "fcr8W58kpPas",
        "outputId": "fdbf1dd3-e380-4da4-a0a2-1f91bc045731"
      },
      "source": [
        "import tensorflow as tf\n",
        "import matplotlib.pyplot as plt\n",
        "import numpy as np\n",
        "import logging\n",
        "logger = tf.get_logger()\n",
        "logger.setLevel(logging.ERROR)\n",
        "\n",
        "millist = np.array([1,3,7,10,15,17,19,24,27], dtype=float)\n",
        "kmlist = np.array([ 1.6, 4.828032, 11.265408, 16.09344, 27.358848,  30.577536, 38.624256, 38.624256, 43.452288], dtype=float)\n",
        "\n",
        "tekrarlama= int(input(\"Tekrarlama Sayısını Giriniz:\"))\n",
        "if tekrarlama<=999:\n",
        "\tprint(\"Hatalı tahmin yapabilir 1000 ve üzerini deneyin\")\n",
        "\n",
        "for a, b in enumerate(millist):\n",
        "\tprint(\"{} mil {} kmdir.\" .format(b, kmlist[a]))\n",
        "hesap = tf.keras.layers.Dense(units = 1,  input_shape=[1])\n",
        "\n",
        "model = tf.keras.Sequential([hesap])\n",
        "model.compile(loss=\"mean_squared_error\", optimizer = tf.keras.optimizers.Adam(0.500))\n",
        "\n",
        "history = model.fit(millist, kmlist, epochs = tekrarlama, verbose = False)\n",
        "print(\"İşlem Tamam\")\n",
        "\n",
        "sonuc = input(\"Hesaplamak İstediğiniz Mil Değerini Yazınız: \")\n",
        "print(\"Sonuç: \", model.predict([int(sonuc)]))\n",
        "\n",
        "asil = int(sonuc) * 1.609344\n",
        "print(\"Asıl Değer: \", asil)"
      ],
      "execution_count": 1,
      "outputs": [
        {
          "output_type": "stream",
          "text": [
            "Tekrarlama Sayısını Giriniz:4\n",
            "Hatalı tahmin yapabilir 1000 ve üzerini deneyin\n",
            "1.0 mil 1.6 kmdir.\n",
            "3.0 mil 4.828032 kmdir.\n",
            "7.0 mil 11.265408 kmdir.\n",
            "10.0 mil 16.09344 kmdir.\n",
            "15.0 mil 27.358848 kmdir.\n",
            "17.0 mil 30.577536 kmdir.\n",
            "19.0 mil 38.624256 kmdir.\n",
            "24.0 mil 38.624256 kmdir.\n",
            "27.0 mil 43.452288 kmdir.\n",
            "İşlem Tamam\n",
            "Hesaplamak İstediğiniz Mil Değerini Yazınız: 80\n",
            "Sonuç:  [[142.33954]]\n",
            "Asıl Değer:  128.74752\n"
          ],
          "name": "stdout"
        }
      ]
    }
  ]
}