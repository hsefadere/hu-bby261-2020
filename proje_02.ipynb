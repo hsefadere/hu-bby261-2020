{
  "nbformat": 4,
  "nbformat_minor": 0,
  "metadata": {
    "colab": {
      "name": "Untitled2.ipynb",
      "provenance": [],
      "authorship_tag": "ABX9TyOmvry1CUI0oiIZXEGQv+7i",
      "include_colab_link": true
    },
    "kernelspec": {
      "name": "python3",
      "display_name": "Python 3"
    }
  },
  "cells": [
    {
      "cell_type": "markdown",
      "metadata": {
        "id": "view-in-github",
        "colab_type": "text"
      },
      "source": [
        "<a href=\"https://colab.research.google.com/github/hsefadere/hu-bby261-2020/blob/main/proje_02.ipynb\" target=\"_parent\"><img src=\"https://colab.research.google.com/assets/colab-badge.svg\" alt=\"Open In Colab\"/></a>"
      ]
    },
    {
      "cell_type": "code",
      "metadata": {
        "id": "N9F-tPXcu3Mc"
      },
      "source": [
        "import tensorflow as tf\n",
        "import matplotlib.pyplot as plt\n",
        "import numpy as np\n",
        "import logging\n",
        "logger = tf.get_logger()\n",
        "logger.setLevel(logging.ERROR)\n",
        "\n",
        "millist = np.array([1, 2, 3, 4, 5, 6, 7, 8, 9], dtype=float)\n",
        "kmlist = np.array([1.609344, 3.218688, 4.828032, 6.437376, 8.04672, 9.656064, 11.265408, 12.874752, 14.484096000000001], dtype=float)\n",
        "\n",
        "for h, m in enumerate(millist):\n",
        "\tprint(\"{} mil {} kmdir.\" .format(m, kmlist[h]))\n",
        "hesap = tf.keras.layers.Dense(units = 1,  input_shape=[1])\n",
        "\n",
        "model = tf.keras.Sequential([hesap])\n",
        "model.compile(loss=\"mean_squared_error\", optimizer = tf.keras.optimizers.Adam(0.500))\n",
        "tekrarlama= int(input(\"Tekrarlama Sayısını Giriniz:\"))\n",
        "history = model.fit(millist, kmlist, epochs = tekrarlama, verbose = False)\n",
        "print(\"İşlem Tamam\")\n",
        "\n",
        "sonuc = input(\"Hesaplamak İstediğiniz Km Değerini Yazınız: \")\n",
        "print(\"Sonuç: \", model.predict([int(sonuc)]))\n",
        "#asıl değer ektedir\n",
        "asil = int(sonuc) * 1.609344\n",
        "print(\"Asıl Değer: \", asil)\n"
      ],
      "execution_count": null,
      "outputs": []
    }
  ]
}
