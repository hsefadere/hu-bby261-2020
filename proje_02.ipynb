{
  "nbformat": 4,
  "nbformat_minor": 0,
  "metadata": {
    "colab": {
      "name": "Untitled22.ipynb",
      "provenance": [],
      "authorship_tag": "ABX9TyMHQn9101P/43nHZr790Chd",
      "include_colab_link": true
    },
    "kernelspec": {
      "name": "python3",
      "display_name": "Python 3"
    }
  },
  "cells": [
    {
      "cell_type": "markdown",
      "metadata": {
        "id": "view-in-github",
        "colab_type": "text"
      },
      "source": [
        "<a href=\"https://colab.research.google.com/github/hsefadere/hu-bby261-2020/blob/main/proje_02.ipynb\" target=\"_parent\"><img src=\"https://colab.research.google.com/assets/colab-badge.svg\" alt=\"Open In Colab\"/></a>"
      ]
    },
    {
      "cell_type": "code",
      "metadata": {
        "id": "BumjlIOPn-Pz"
      },
      "source": [
        "import tensorflow as tf\n",
        "import matplotlib.pyplot as plt\n",
        "import numpy as np\n",
        "import logging\n",
        "logger = tf.get_logger()\n",
        "logger.setLevel(logging.ERROR)\n",
        "\n",
        "millist = np.array([1,2,3,4,5,6,7,8,9], dtype=float)\n",
        "kmlist = np.array([ 1.6, 3.2, 4.800000000000001, 6.4, 8.0, 9.600000000000001, 11.200000000000001, 12.8, 14.4], dtype=float)\n",
        "\n",
        "tekrarlama= int(input(\"Tekrarlama Sayısını Giriniz:\"))\n",
        "if tekrarlama<=999:\n",
        "\tprint(\"Hatalı tahmin yapabilir 1000 ve üzerini deneyin\")\n",
        "\n",
        "for a, b in enumerate(millist):\n",
        "\tprint(\"{} mil {} kmdir.\" .format(b, kmlist[a]))\n",
        "hesap = tf.keras.layers.Dense(units = 1,  input_shape=[1])\n",
        "\n",
        "model = tf.keras.Sequential([hesap])\n",
        "model.compile(loss=\"mean_squared_error\", optimizer = tf.keras.optimizers.Adam(0.500))\n",
        "\n",
        "history = model.fit(millist, kmlist, epochs = tekrarlama, verbose = False)\n",
        "print(\"İşlem Tamam\")\n",
        "\n",
        "sonuc = input(\"Hesaplamak İstediğiniz Mil Değerini Yazınız: \")\n",
        "print(\"Sonuç: \", model.predict([int(sonuc)]))\n",
        "\n",
        "asil = int(sonuc) * 1.609344\n",
        "print(\"Asıl Değer: \", asil)"
      ],
      "execution_count": null,
      "outputs": []
    }
  ]
}