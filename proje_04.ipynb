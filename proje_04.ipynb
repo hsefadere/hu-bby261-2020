{
  "nbformat": 4,
  "nbformat_minor": 0,
  "metadata": {
    "colab": {
      "name": "sezarson.ipynb",
      "provenance": [],
      "collapsed_sections": [],
      "authorship_tag": "ABX9TyO9eoCSJFMj02wW5cZW8LJM",
      "include_colab_link": true
    },
    "kernelspec": {
      "name": "python3",
      "display_name": "Python 3"
    }
  },
  "cells": [
    {
      "cell_type": "markdown",
      "metadata": {
        "id": "view-in-github",
        "colab_type": "text"
      },
      "source": [
        "<a href=\"https://colab.research.google.com/github/hsefadere/hu-bby261-2020/blob/main/proje_04.ipynb\" target=\"_parent\"><img src=\"https://colab.research.google.com/assets/colab-badge.svg\" alt=\"Open In Colab\"/></a>"
      ]
    },
    {
      "cell_type": "code",
      "metadata": {
        "id": "fsPHKP488Cs2"
      },
      "source": [
        "import string\n",
        "butunalfabe = string.printable\n",
        "alfabe = [\"ç\", \"ğ\", \"ı\", \"ö\", \"ş\", \"ü\", \"Ç\", \"Ğ\", \"İ\", \"Ö\", \"Ş\", \"Ü\"]\n",
        "for i in butunalfabe:\n",
        "    alfabe.append(i)"
      ],
      "execution_count": null,
      "outputs": []
    },
    {
      "cell_type": "code",
      "metadata": {
        "id": "4MN4ncJY8FMp"
      },
      "source": [
        "sifrelik = open(\"Sezar Şifreleme.txt\",\"w\",encoding=\"utf-8\")\n",
        "sifre = input(\"Şifreyi Giriniz:\")\n",
        "sifrelik.write(sifre)\n",
        "sifrelik.close()"
      ],
      "execution_count": null,
      "outputs": []
    },
    {
      "cell_type": "code",
      "metadata": {
        "id": "cvHfQfL78H-3"
      },
      "source": [
        "anahtar = 4\n",
        "sifrelenen = \"\"\n",
        "cumleoku = open(\"Sezar Şifreleme.txt\",\"r\",encoding=\"utf-8\")\n",
        "atama = open(\"Sezar Şifreliler.txt\",\"w\",encoding=\"utf-8\")\n",
        "for k in cumleoku.read():\n",
        "  sifrelenen += alfabe[(alfabe.index(k) + anahtar )%len(alfabe)]\n",
        "atama.write(sifrelenen)\n",
        "atama.close()\n",
        "print(sifrelenen)"
      ],
      "execution_count": null,
      "outputs": []
    },
    {
      "cell_type": "code",
      "metadata": {
        "id": "VBwS2SHq8K3H"
      },
      "source": [
        "sifrecoz = \"\"\n",
        "sezoku = open(\"Sezar Şifreliler.txt\",\"r\",encoding=\"utf-8\")\n",
        "for h in sezoku.read():\n",
        "  sifrecoz +=alfabe[(alfabe.index(h) - anahtar )%len(alfabe)]\n",
        "print(sifrecoz)"
      ],
      "execution_count": null,
      "outputs": []
    },
    {
      "cell_type": "code",
      "metadata": {
        "id": "ocX5KePo8NTY"
      },
      "source": [
        "metinİcinden = \"sorun devlet sahip sıra yüzde ay olay söz sistem kapı kitap gece alan bugün dönem arkadaş ürün aile erkek güç gerçek ilişki çevre yaşam halk sokak bey tarih özellik bölüm akıl anlam banka ayak toplum araç madde tür karar hava sayı grup oda biçim haber Allah soru arka yazı okul dil şirket kaynak program hareket renk hak çalışma açı parça gazete değer yapı doktor gelir görev amaç bölge film müşteri telefon eğitim deniz etki vücut düşünce milyon temel kültür resim ışık hanım hatun hizmet ihtiyaç nokta yön oyun işlem oran orada dikkat bilgisayar gelecek oğul lira üretim dakika araba ağız duygu örnek derece duvar sanat ana hastalık öğrenci televizyon yöntem masa takım kafa müzik enerji üniversite spor türlü can kısım ölüm sağlık sabah internet teknik dışarı merkez ortam düzey köy yönetim aşağı cevap toprak isim akşam araştırma kan hasta şehir hafta trafik hesap otomobil yabancı davranış mutfak kent fiyat kol cam önem koca varlık ilgi satış içeri acı kat ekonomi fotoğraf hayvan savaş mal saç kalan sayfa teknoloji kurum sektör kağıt koku yüzyıl cadde pazar kullanım sınıf aşk güneş sigara ağaç kelime bina parti yatak yazar kulak öğretmen sebep yağ kural şiir başarı firma hükümet kalp proje şart hız köşe model balık piyasa görüş bura miktar meydan ölçü bahçe sevgi ekmek dolu kuruluş saye yardım malzeme köpek istek kardeş izin korku meslek polis fikir pencere taş ateş fark koşul mahalle tane ortak tip\"\n",
        "kelimeInList =metinİcinden.split()\n",
        "\n",
        "kilit = 0\n",
        "sezok = open(\"Sezar Şifreliler.txt\",\"r\",encoding=\"utf-8\")\n",
        "metin = sezok.read()\n",
        "\n",
        "kirilanlar = open(\"Kırılan Şifreler.txt\",\"w\",encoding=\"utf-8\")\n",
        "\n",
        "\n",
        "while kilit <= len(alfabe):\n",
        "  kilit += 1\n",
        "  sifresikirilan=\"\"\n",
        "  for hrn in metin:\n",
        "    sifresikirilan += alfabe[(alfabe.index(hrn)+kilit)%len(alfabe)]\n",
        "\n",
        "  for hs in range(len(kelimeInList)):\n",
        "    if sifresikirilan.find(kelimeInList[hs]) != -1:\n",
        "      print(\"şifre: \", sifresikirilan)\n",
        "      break\n",
        "  kirilanlar.write(sifresikirilan + \"\\n\")\n",
        "kirilanlar.close()\n"
      ],
      "execution_count": null,
      "outputs": []
    },
    {
      "cell_type": "code",
      "metadata": {
        "id": "HqW5nteZ8P9Y"
      },
      "source": [
        "\"\"\"\n",
        "hsd = open(\"Kırılan Şifreler.txt\",\"r\",encoding=\"utf-8\")\n",
        "for yv in range(len(kelimeInList)):\n",
        "  for hs in hsd.readlines():\n",
        "    if hs.find(kelimeInList[yv]) != -1:\n",
        "      print(\"Şifre: \" , hs)\n",
        "\"\"\" "
      ],
      "execution_count": null,
      "outputs": []
    }
  ]
}