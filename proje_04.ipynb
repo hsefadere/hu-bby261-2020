{
  "nbformat": 4,
  "nbformat_minor": 0,
  "metadata": {
    "colab": {
      "name": "sezarşifresi.ipynb",
      "provenance": [],
      "collapsed_sections": [],
      "authorship_tag": "ABX9TyPEQpK/kQ6Dend9ZKjUgYTV",
      "include_colab_link": true
    },
    "kernelspec": {
      "name": "python3",
      "display_name": "Python 3"
    }
  },
  "cells": [
    {
      "cell_type": "markdown",
      "metadata": {
        "id": "view-in-github",
        "colab_type": "text"
      },
      "source": [
        "<a href=\"https://colab.research.google.com/github/hsefadere/hu-bby261-2020/blob/main/proje_04.ipynb\" target=\"_parent\"><img src=\"https://colab.research.google.com/assets/colab-badge.svg\" alt=\"Open In Colab\"/></a>"
      ]
    },
    {
      "cell_type": "code",
      "metadata": {
        "id": "r9EaMd52TBSk",
        "colab": {
          "base_uri": "https://localhost:8080/"
        },
        "outputId": "f828634b-f7bd-431c-81be-105ff2ad657c"
      },
      "source": [
        "from google.colab import drive\n",
        "drive.mount('/gdrive', force_remount=True)\n",
        "cumle = \"/gdrive/My Drive/pyödev/cümleler.txt\""
      ],
      "execution_count": 1,
      "outputs": [
        {
          "output_type": "stream",
          "text": [
            "Mounted at /gdrive\n"
          ],
          "name": "stdout"
        }
      ]
    },
    {
      "cell_type": "code",
      "metadata": {
        "id": "ZfLexbL-TUF7"
      },
      "source": [
        "import string\n",
        "butunalfabe = string.printable\n",
        "alfabe = [\"ç\", \"ğ\", \"ı\", \"ö\", \"ş\", \"ü\", \"Ç\", \"Ğ\", \"İ\", \"Ö\", \"Ş\", \"Ü\"]\n",
        "for i in butunalfabe:\n",
        "    alfabe.append(i)"
      ],
      "execution_count": 3,
      "outputs": []
    },
    {
      "cell_type": "code",
      "metadata": {
        "id": "n2BvKmxlTWKD",
        "colab": {
          "base_uri": "https://localhost:8080/"
        },
        "outputId": "42390035-985c-40af-8b60-d5a7820a264b"
      },
      "source": [
        "kelimeAl = input(\"Şifrelenecek Cümle\")\n",
        "sifrelik = open(\"Sezar Şifreleme.txt\",\"w\",encoding=\"utf-8\")\n",
        "\n",
        "sifrelik.write(kelimeAl)"
      ],
      "execution_count": 5,
      "outputs": [
        {
          "output_type": "stream",
          "text": [
            "Şifrelenecek Cümlemutluluk bir tercihtir\n"
          ],
          "name": "stdout"
        },
        {
          "output_type": "execute_result",
          "data": {
            "text/plain": [
              "22"
            ]
          },
          "metadata": {
            "tags": []
          },
          "execution_count": 5
        }
      ]
    },
    {
      "cell_type": "code",
      "metadata": {
        "id": "moQqPxl5TkAM",
        "colab": {
          "base_uri": "https://localhost:8080/"
        },
        "outputId": "7063db8e-75d7-4c35-92a4-6c49ad8dff16"
      },
      "source": [
        "anahtar = 4\n",
        "sifrelenen = \"\"\n",
        "cumleoku = open(\"Sezar Şifreleme.txt\",\"r\",encoding=\"utf-8\")\n",
        "atama = open(\"Sezar Şifreliler.txt\",\"w\",encoding=\"utf-8\")\n",
        "for k in cumleoku.read():\n",
        "  sifrelenen += alfabe[(alfabe.index(k) + anahtar )%len(alfabe)]\n",
        "atama.write(sifrelenen)\n",
        "print(sifrelenen)"
      ],
      "execution_count": 7,
      "outputs": [
        {
          "output_type": "stream",
          "text": [
            "qyxpypyo\u000bfmv\u000bxivgmlxmv\n"
          ],
          "name": "stdout"
        }
      ]
    },
    {
      "cell_type": "code",
      "metadata": {
        "id": "Bw6qRRTpTmF0",
        "colab": {
          "base_uri": "https://localhost:8080/"
        },
        "outputId": "bc02ae43-4ca2-40c4-9a2e-2f32b5c84fd5"
      },
      "source": [
        "sifrecoz = \"\"\n",
        "sezoku = open(\"Sezar Şifreliler.txt\",\"r\",encoding=\"utf-8\")\n",
        "for h in sezoku.read():\n",
        "  sifrecoz +=alfabe[(alfabe.index(h) - anahtar )%len(alfabe)]\n",
        "print(sifrecoz)"
      ],
      "execution_count": 9,
      "outputs": [
        {
          "output_type": "stream",
          "text": [
            "mutluluk bir tercihtir\n"
          ],
          "name": "stdout"
        }
      ]
    },
    {
      "cell_type": "code",
      "metadata": {
        "id": "1MKGdJbsTnys"
      },
      "source": [
        "kilit = 0\n",
        "sezok = open(\"Sezar Şifreliler.txt\",\"r\",encoding=\"utf-8\")\n",
        "metin = sezok.read()\n",
        "kirilanlar = open(\"Kırılan Şifreler.txt\",\"w\",encoding=\"utf-8\")\n",
        "\n",
        "while kilit <= len(alfabe):\n",
        "  kilit += 1\n",
        "  sifresikirilan=\"\"\n",
        "\n",
        "  for s in metin:\n",
        "    sifresikirilan += alfabe[(alfabe.index(s) - kilit)% len(alfabe)]\n",
        "  \n",
        "  kirilanlar.write(\"Şifresi kırılanlar:\"+sifresikirilan+\"\\n\")\n",
        "  \n",
        "\n",
        "  "
      ],
      "execution_count": 11,
      "outputs": []
    },
    {
      "cell_type": "code",
      "metadata": {
        "id": "YMOTAbZwTtH8",
        "colab": {
          "base_uri": "https://localhost:8080/"
        },
        "outputId": "63fbabde-6e68-4249-d674-b5d9a3dbbbf2"
      },
      "source": [
        "çağr = open(\"Kırılan Şifreler.txt\",\"r\",encoding=\"utf-8\")\n",
        "\n",
        "for a in çağr.readlines():\n",
        "  if a.find(\"Şifresi kırılanlar:\"+kelimeAl) == 0:\n",
        "    print(a)"
      ],
      "execution_count": 12,
      "outputs": [
        {
          "output_type": "stream",
          "text": [
            "Şifresi kırılanlar:mutluluk bir tercihtir\n",
            "\n"
          ],
          "name": "stdout"
        }
      ]
    }
  ]
}