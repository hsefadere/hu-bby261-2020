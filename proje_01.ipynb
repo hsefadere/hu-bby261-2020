{
  "nbformat": 4,
  "nbformat_minor": 0,
  "metadata": {
    "colab": {
      "name": "Untitled0.ipynb",
      "provenance": [],
      "authorship_tag": "ABX9TyPLOFK4I2ivknuSxUT+Oo6f",
      "include_colab_link": true
    },
    "kernelspec": {
      "name": "python3",
      "display_name": "Python 3"
    }
  },
  "cells": [
    {
      "cell_type": "markdown",
      "metadata": {
        "id": "view-in-github",
        "colab_type": "text"
      },
      "source": [
        "<a href=\"https://colab.research.google.com/github/hsefadere/hu-bby261-2020/blob/main/proje_01.ipynb\" target=\"_parent\"><img src=\"https://colab.research.google.com/assets/colab-badge.svg\" alt=\"Open In Colab\"/></a>"
      ]
    },
    {
      "cell_type": "code",
      "metadata": {
        "id": "V7QG3WAT1rB_",
        "outputId": "07afc153-ee68-45b8-a009-d96b96109255",
        "colab": {
          "base_uri": "https://localhost:8080/",
          "height": 34
        }
      },
      "source": [
        "\n",
        "metin = \"bilgi insanlar için bir ayrıcalık olmakla birlikte bilgiler sayesinde geleceğin aydınlanacağı bilinmektedir.\"\n",
        "kelime = metin.split()\n",
        "sonmetin = kelime.count(\"bilgi\")\n",
        "print(sonmetin)"
      ],
      "execution_count": 1,
      "outputs": [
        {
          "output_type": "stream",
          "text": [
            "1\n"
          ],
          "name": "stdout"
        }
      ]
    }
  ]
}